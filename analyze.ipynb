{
 "cells": [
  {
   "cell_type": "code",
   "execution_count": 1,
   "metadata": {},
   "outputs": [],
   "source": [
    "import pandas as pd\n",
    "import numpy as np\n",
    "import matplotlib as plt\n",
    "import seaborn as sns"
   ]
  },
  {
   "cell_type": "code",
   "execution_count": 2,
   "metadata": {},
   "outputs": [],
   "source": [
    "PATH = './data'\n",
    "KP_ACC_PATH = PATH+'/kp_acc.csv'\n",
    "KP_VOICE_PATH = PATH+'/kp_voice.csv'\n",
    "NPA_ACC_PATH = PATH+'/npa_acc.csv'\n",
    "NPA_VOICE_PATH = PATH+'/npa_voice.csv'"
   ]
  },
  {
   "cell_type": "code",
   "execution_count": 3,
   "metadata": {},
   "outputs": [],
   "source": [
    "kp_acc = pd.read_csv(KP_ACC_PATH, encoding='utf-8')\n",
    "kp_voice = pd.read_csv(KP_VOICE_PATH, encoding='utf-8')\n",
    "npa_acc = pd.read_csv(NPA_ACC_PATH, encoding='utf-8')\n",
    "npa_voice = pd.read_csv(NPA_VOICE_PATH, encoding='utf-8')"
   ]
  },
  {
   "cell_type": "code",
   "execution_count": 4,
   "metadata": {},
   "outputs": [
    {
     "data": {
      "text/html": [
       "<div>\n",
       "<style scoped>\n",
       "    .dataframe tbody tr th:only-of-type {\n",
       "        vertical-align: middle;\n",
       "    }\n",
       "\n",
       "    .dataframe tbody tr th {\n",
       "        vertical-align: top;\n",
       "    }\n",
       "\n",
       "    .dataframe thead th {\n",
       "        text-align: right;\n",
       "    }\n",
       "</style>\n",
       "<table border=\"1\" class=\"dataframe\">\n",
       "  <thead>\n",
       "    <tr style=\"text-align: right;\">\n",
       "      <th></th>\n",
       "      <th>RECV_DEPT_NM</th>\n",
       "      <th>RECV_CPLT_DM</th>\n",
       "      <th>NPA_CL</th>\n",
       "      <th>EVT_STAT_CD</th>\n",
       "      <th>EVT_CL_CD</th>\n",
       "      <th>RPTER_SEX</th>\n",
       "      <th>HPPN_PNU_ADDR</th>\n",
       "      <th>HPPN_X</th>\n",
       "      <th>HPPN_Y</th>\n",
       "      <th>SME_EVT_YN</th>\n",
       "    </tr>\n",
       "  </thead>\n",
       "  <tbody>\n",
       "    <tr>\n",
       "      <th>0</th>\n",
       "      <td>충남청</td>\n",
       "      <td>1606778270</td>\n",
       "      <td>19</td>\n",
       "      <td>10</td>\n",
       "      <td>401</td>\n",
       "      <td>2</td>\n",
       "      <td>충청남도 천안시 서북구 성정동(행정:성정2동) 1259</td>\n",
       "      <td>127.137160</td>\n",
       "      <td>36.826717</td>\n",
       "      <td>-1</td>\n",
       "    </tr>\n",
       "    <tr>\n",
       "      <th>1</th>\n",
       "      <td>대전청</td>\n",
       "      <td>1606760666</td>\n",
       "      <td>13</td>\n",
       "      <td>10</td>\n",
       "      <td>406</td>\n",
       "      <td>1</td>\n",
       "      <td>대전광역시 유성구 봉명동(행정:온천1동) 575</td>\n",
       "      <td>127.341550</td>\n",
       "      <td>36.353695</td>\n",
       "      <td>-1</td>\n",
       "    </tr>\n",
       "    <tr>\n",
       "      <th>2</th>\n",
       "      <td>충남청</td>\n",
       "      <td>1606775838</td>\n",
       "      <td>19</td>\n",
       "      <td>10</td>\n",
       "      <td>402</td>\n",
       "      <td>1</td>\n",
       "      <td>충청남도 천안시 서북구 성환읍 성월리(행정:성환읍) 150</td>\n",
       "      <td>127.136140</td>\n",
       "      <td>36.917900</td>\n",
       "      <td>-1</td>\n",
       "    </tr>\n",
       "    <tr>\n",
       "      <th>3</th>\n",
       "      <td>대전청</td>\n",
       "      <td>1606774124</td>\n",
       "      <td>13</td>\n",
       "      <td>10</td>\n",
       "      <td>401</td>\n",
       "      <td>1</td>\n",
       "      <td>대전광역시 중구 석교동(석교동) 85-14</td>\n",
       "      <td>127.447550</td>\n",
       "      <td>36.306725</td>\n",
       "      <td>-1</td>\n",
       "    </tr>\n",
       "    <tr>\n",
       "      <th>4</th>\n",
       "      <td>대전청</td>\n",
       "      <td>1606774160</td>\n",
       "      <td>13</td>\n",
       "      <td>10</td>\n",
       "      <td>401</td>\n",
       "      <td>2</td>\n",
       "      <td>대전광역시 중구 석교동(행정:석교동) 88-11</td>\n",
       "      <td>127.447174</td>\n",
       "      <td>36.306694</td>\n",
       "      <td>-1</td>\n",
       "    </tr>\n",
       "    <tr>\n",
       "      <th>...</th>\n",
       "      <td>...</td>\n",
       "      <td>...</td>\n",
       "      <td>...</td>\n",
       "      <td>...</td>\n",
       "      <td>...</td>\n",
       "      <td>...</td>\n",
       "      <td>...</td>\n",
       "      <td>...</td>\n",
       "      <td>...</td>\n",
       "      <td>...</td>\n",
       "    </tr>\n",
       "    <tr>\n",
       "      <th>287612</th>\n",
       "      <td>대전청</td>\n",
       "      <td>1673780499</td>\n",
       "      <td>13</td>\n",
       "      <td>10</td>\n",
       "      <td>401</td>\n",
       "      <td>1</td>\n",
       "      <td>대전 서구 괴정동 88-6</td>\n",
       "      <td>127.384285</td>\n",
       "      <td>36.334507</td>\n",
       "      <td>-1</td>\n",
       "    </tr>\n",
       "    <tr>\n",
       "      <th>287613</th>\n",
       "      <td>충남청</td>\n",
       "      <td>1673872016</td>\n",
       "      <td>19</td>\n",
       "      <td>10</td>\n",
       "      <td>401</td>\n",
       "      <td>1</td>\n",
       "      <td>충청남도 태안군 근흥면 두야리(근흥면 ) 246-2</td>\n",
       "      <td>126.262390</td>\n",
       "      <td>36.751470</td>\n",
       "      <td>-1</td>\n",
       "    </tr>\n",
       "    <tr>\n",
       "      <th>287614</th>\n",
       "      <td>충남청</td>\n",
       "      <td>1673625768</td>\n",
       "      <td>19</td>\n",
       "      <td>10</td>\n",
       "      <td>403</td>\n",
       "      <td>2</td>\n",
       "      <td>충청남도 천안시 동남구 다가동 (일봉동 ) 61-35</td>\n",
       "      <td>127.147675</td>\n",
       "      <td>36.789124</td>\n",
       "      <td>-1</td>\n",
       "    </tr>\n",
       "    <tr>\n",
       "      <th>287615</th>\n",
       "      <td>대전청</td>\n",
       "      <td>1673685338</td>\n",
       "      <td>13</td>\n",
       "      <td>10</td>\n",
       "      <td>401</td>\n",
       "      <td>1</td>\n",
       "      <td>대전광역시 대덕구 신탄진동 (행정:신탄진동 ) 129-7</td>\n",
       "      <td>127.433784</td>\n",
       "      <td>36.450726</td>\n",
       "      <td>-1</td>\n",
       "    </tr>\n",
       "    <tr>\n",
       "      <th>287616</th>\n",
       "      <td>대전청</td>\n",
       "      <td>1673712800</td>\n",
       "      <td>13</td>\n",
       "      <td>10</td>\n",
       "      <td>401</td>\n",
       "      <td>1</td>\n",
       "      <td>대전광역시 대덕구 평촌동 (행정:덕암동 ) 346</td>\n",
       "      <td>127.428280</td>\n",
       "      <td>36.425404</td>\n",
       "      <td>1</td>\n",
       "    </tr>\n",
       "  </tbody>\n",
       "</table>\n",
       "<p>287617 rows × 10 columns</p>\n",
       "</div>"
      ],
      "text/plain": [
       "       RECV_DEPT_NM  RECV_CPLT_DM  NPA_CL  EVT_STAT_CD  EVT_CL_CD  RPTER_SEX  \\\n",
       "0               충남청    1606778270      19           10        401          2   \n",
       "1               대전청    1606760666      13           10        406          1   \n",
       "2               충남청    1606775838      19           10        402          1   \n",
       "3               대전청    1606774124      13           10        401          1   \n",
       "4               대전청    1606774160      13           10        401          2   \n",
       "...             ...           ...     ...          ...        ...        ...   \n",
       "287612          대전청    1673780499      13           10        401          1   \n",
       "287613          충남청    1673872016      19           10        401          1   \n",
       "287614          충남청    1673625768      19           10        403          2   \n",
       "287615          대전청    1673685338      13           10        401          1   \n",
       "287616          대전청    1673712800      13           10        401          1   \n",
       "\n",
       "                           HPPN_PNU_ADDR      HPPN_X     HPPN_Y  SME_EVT_YN  \n",
       "0         충청남도 천안시 서북구 성정동(행정:성정2동) 1259  127.137160  36.826717          -1  \n",
       "1             대전광역시 유성구 봉명동(행정:온천1동) 575  127.341550  36.353695          -1  \n",
       "2       충청남도 천안시 서북구 성환읍 성월리(행정:성환읍) 150  127.136140  36.917900          -1  \n",
       "3                대전광역시 중구 석교동(석교동) 85-14  127.447550  36.306725          -1  \n",
       "4             대전광역시 중구 석교동(행정:석교동) 88-11  127.447174  36.306694          -1  \n",
       "...                                  ...         ...        ...         ...  \n",
       "287612                    대전 서구 괴정동 88-6  127.384285  36.334507          -1  \n",
       "287613      충청남도 태안군 근흥면 두야리(근흥면 ) 246-2  126.262390  36.751470          -1  \n",
       "287614     충청남도 천안시 동남구 다가동 (일봉동 ) 61-35  127.147675  36.789124          -1  \n",
       "287615   대전광역시 대덕구 신탄진동 (행정:신탄진동 ) 129-7  127.433784  36.450726          -1  \n",
       "287616       대전광역시 대덕구 평촌동 (행정:덕암동 ) 346  127.428280  36.425404           1  \n",
       "\n",
       "[287617 rows x 10 columns]"
      ]
     },
     "execution_count": 4,
     "metadata": {},
     "output_type": "execute_result"
    }
   ],
   "source": [
    "kp_acc"
   ]
  },
  {
   "cell_type": "code",
   "execution_count": 5,
   "metadata": {},
   "outputs": [
    {
     "data": {
      "text/plain": [
       "1    204955\n",
       "2     55596\n",
       "3     27066\n",
       "Name: RPTER_SEX, dtype: int64"
      ]
     },
     "execution_count": 5,
     "metadata": {},
     "output_type": "execute_result"
    }
   ],
   "source": [
    "kp_acc['RPTER_SEX'].value_counts()  #1:남 2:여 3:불명"
   ]
  },
  {
   "cell_type": "code",
   "execution_count": 6,
   "metadata": {},
   "outputs": [
    {
     "data": {
      "text/plain": [
       "충남청         177117\n",
       "대전청         108791\n",
       "남대전지구대         300\n",
       "대전역지구대         237\n",
       "서대전지구대         217\n",
       "대전유성서          138\n",
       "대전파출소          125\n",
       "2지구대(충남)        86\n",
       "세종대왕파출소         80\n",
       "대전동부서           68\n",
       "대전서부서           61\n",
       "세종남부서           56\n",
       "대전중부서           51\n",
       "세종청             48\n",
       "대전대덕서           44\n",
       "대전둔산서           41\n",
       "세종서             39\n",
       "대전유성            27\n",
       "세종북부서           18\n",
       "세종              18\n",
       "대전둔산            13\n",
       "세종로파출소          11\n",
       "대전동부            10\n",
       "대전중부             9\n",
       "대전대덕             9\n",
       "대전서부             3\n",
       "Name: RECV_DEPT_NM, dtype: int64"
      ]
     },
     "execution_count": 6,
     "metadata": {},
     "output_type": "execute_result"
    }
   ],
   "source": [
    "kp_acc['RECV_DEPT_NM'].value_counts()"
   ]
  },
  {
   "cell_type": "code",
   "execution_count": 7,
   "metadata": {},
   "outputs": [
    {
     "data": {
      "text/plain": [
       "10    287588\n",
       "5         18\n",
       "3          8\n",
       "9          2\n",
       "2          1\n",
       "Name: EVT_STAT_CD, dtype: int64"
      ]
     },
     "execution_count": 7,
     "metadata": {},
     "output_type": "execute_result"
    }
   ],
   "source": [
    "kp_acc['EVT_STAT_CD'].value_counts()"
   ]
  },
  {
   "cell_type": "code",
   "execution_count": 8,
   "metadata": {},
   "outputs": [
    {
     "name": "stdout",
     "output_type": "stream",
     "text": [
      "kp_acc len : 287617\n",
      "kp_voice len : 35489\n",
      "npa_acc len : 142905\n",
      "npa_voice len : 10779\n"
     ]
    }
   ],
   "source": [
    "print(f\"kp_acc len : {kp_acc.__len__()}\")\n",
    "print(f\"kp_voice len : {kp_voice.__len__()}\")\n",
    "print(f\"npa_acc len : {npa_acc.__len__()}\")\n",
    "print(f\"npa_voice len : {npa_voice.__len__()}\")"
   ]
  }
 ],
 "metadata": {
  "kernelspec": {
   "display_name": "torch_test",
   "language": "python",
   "name": "python3"
  },
  "language_info": {
   "codemirror_mode": {
    "name": "ipython",
    "version": 3
   },
   "file_extension": ".py",
   "mimetype": "text/x-python",
   "name": "python",
   "nbconvert_exporter": "python",
   "pygments_lexer": "ipython3",
   "version": "3.8.0"
  },
  "orig_nbformat": 4,
  "vscode": {
   "interpreter": {
    "hash": "e3e7338fda230e564c246b3fb1a97a121649dd2c19e94dd490b3b4dd4ac1c247"
   }
  }
 },
 "nbformat": 4,
 "nbformat_minor": 2
}
